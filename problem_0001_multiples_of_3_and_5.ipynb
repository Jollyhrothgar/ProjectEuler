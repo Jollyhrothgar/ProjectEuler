{
 "cells": [
  {
   "cell_type": "markdown",
   "metadata": {},
   "source": [
    "# Multiples of 3 and 5\n",
    "\n",
    "If we list all the natural numbers below 10 that are multiples of 3 or 5, we get 3, 5, 6, and 9. The sum of these multiples is 23. Find the sum of all multiples of 3 and 5 below 1000."
   ]
  },
  {
   "cell_type": "code",
   "execution_count": 2,
   "metadata": {},
   "outputs": [],
   "source": [
    "# This can be done with a list comprehension and sum.\n",
    "max_range = 1000"
   ]
  },
  {
   "cell_type": "code",
   "execution_count": 7,
   "metadata": {},
   "outputs": [],
   "source": [
    "sol_1 = lambda x: sum([number for number in range(max_range) if number % 3 == 0 or number % 5 == 0])"
   ]
  },
  {
   "cell_type": "code",
   "execution_count": 9,
   "metadata": {},
   "outputs": [
    {
     "data": {
      "text/plain": [
       "233168"
      ]
     },
     "execution_count": 9,
     "metadata": {},
     "output_type": "execute_result"
    }
   ],
   "source": [
    "sol_1('whatever')"
   ]
  },
  {
   "cell_type": "code",
   "execution_count": 10,
   "metadata": {},
   "outputs": [
    {
     "name": "stdout",
     "output_type": "stream",
     "text": [
      "123 µs ± 501 ns per loop (mean ± std. dev. of 7 runs, 10000 loops each)\n"
     ]
    }
   ],
   "source": [
    "%%timeit\n",
    "sol_1('whatever')"
   ]
  },
  {
   "cell_type": "markdown",
   "metadata": {},
   "source": [
    "Potential gotchas here - a number can be a multiple of both 3 and 5, but if it is either, we're cool. Therefore, we might avoid checks with a switch."
   ]
  },
  {
   "cell_type": "code",
   "execution_count": 15,
   "metadata": {},
   "outputs": [],
   "source": [
    "def sol_2(n):\n",
    "  summed = 0\n",
    "  for i in range(n):\n",
    "    if i % 3 == 0:\n",
    "      summed += i\n",
    "    elif i % 5 == 0:\n",
    "      summed += i\n",
    "    else:\n",
    "      pass\n",
    "  return summed"
   ]
  },
  {
   "cell_type": "code",
   "execution_count": 16,
   "metadata": {},
   "outputs": [
    {
     "data": {
      "text/plain": [
       "233168"
      ]
     },
     "execution_count": 16,
     "metadata": {},
     "output_type": "execute_result"
    }
   ],
   "source": [
    "sol_2(1000)"
   ]
  },
  {
   "cell_type": "code",
   "execution_count": 18,
   "metadata": {},
   "outputs": [
    {
     "name": "stdout",
     "output_type": "stream",
     "text": [
      "117 µs ± 350 ns per loop (mean ± std. dev. of 7 runs, 10000 loops each)\n"
     ]
    }
   ],
   "source": [
    "%%timeit\n",
    "sol_2(1000)"
   ]
  },
  {
   "cell_type": "markdown",
   "metadata": {},
   "source": [
    "Slightly faster, but not my much."
   ]
  },
  {
   "cell_type": "markdown",
   "metadata": {},
   "source": [
    "What about this super clever solution, which essentially uses factors of 3 and 5 with correction for overlaps (bottom up)\n",
    "\n",
    "The \"optimal\" solution in project euler actually has some unstated assumptions about data type. The data types are assumed to be integers, undergoing integer division. There are remainders which are problematic. This is fixed by casting the result to integers, though, I'm surprised that this is sufficient. I would have guessed that each term that is divided would have to be cast as an integer."
   ]
  },
  {
   "cell_type": "code",
   "execution_count": 11,
   "metadata": {},
   "outputs": [],
   "source": [
    "def sum_divisible(n, factor):\n",
    "#  Option 1: lazy casting\n",
    "#   p = int(factor / n\n",
    "#   return int(n * (p * (p + 1)) / 2)\n",
    "  # Option 2: Integer division\n",
    "  p = factor // n\n",
    "  return n * (p * (p + 1)) // 2\n",
    "\n",
    "def sol_3():\n",
    "  return sum_divisible(factor=999, n=3) + sum_divisible(factor=999, n=5) - sum_divisible(factor=999, n=15)"
   ]
  },
  {
   "cell_type": "code",
   "execution_count": 12,
   "metadata": {},
   "outputs": [
    {
     "data": {
      "text/plain": [
       "233168"
      ]
     },
     "execution_count": 12,
     "metadata": {},
     "output_type": "execute_result"
    }
   ],
   "source": [
    "sol_3()"
   ]
  }
 ],
 "metadata": {
  "kernelspec": {
   "display_name": "Python 3",
   "language": "python",
   "name": "python3"
  },
  "language_info": {
   "codemirror_mode": {
    "name": "ipython",
    "version": 3
   },
   "file_extension": ".py",
   "mimetype": "text/x-python",
   "name": "python",
   "nbconvert_exporter": "python",
   "pygments_lexer": "ipython3",
   "version": "3.7.8"
  }
 },
 "nbformat": 4,
 "nbformat_minor": 4
}
