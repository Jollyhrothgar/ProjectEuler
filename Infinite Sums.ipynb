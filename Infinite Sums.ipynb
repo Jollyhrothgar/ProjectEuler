{
 "cells": [
  {
   "cell_type": "markdown",
   "metadata": {},
   "source": [
    "Sum from 1 to infinity 1 / 2 ^ n"
   ]
  },
  {
   "cell_type": "code",
   "execution_count": 6,
   "metadata": {},
   "outputs": [
    {
     "name": "stdout",
     "output_type": "stream",
     "text": [
      "1.0\n"
     ]
    }
   ],
   "source": [
    "# With a for loop\n",
    "N = 1000\n",
    "\n",
    "total_sum = 0\n",
    "for n in range(1, N):\n",
    "  total_sum += 1 / (2 ** n)\n",
    "print(total_sum)"
   ]
  },
  {
   "cell_type": "code",
   "execution_count": 8,
   "metadata": {},
   "outputs": [
    {
     "name": "stdout",
     "output_type": "stream",
     "text": [
      "1.0\n"
     ]
    }
   ],
   "source": [
    "N = 1000\n",
    "total_sum = sum([1/2 ** n for n in range(1, N)])\n",
    "print(total_sum)"
   ]
  },
  {
   "cell_type": "code",
   "execution_count": 12,
   "metadata": {},
   "outputs": [
    {
     "name": "stdout",
     "output_type": "stream",
     "text": [
      "1.0\n"
     ]
    }
   ],
   "source": [
    "N = 1000\n",
    "n = 1\n",
    "total_sum = 0\n",
    "while n < N:\n",
    "  total_sum += 1 / 2 ** n\n",
    "  n += 1 \n",
    "print(total_sum)"
   ]
  },
  {
   "cell_type": "code",
   "execution_count": 14,
   "metadata": {},
   "outputs": [
    {
     "name": "stdout",
     "output_type": "stream",
     "text": [
      "1.0\n"
     ]
    }
   ],
   "source": [
    "N = 1000\n",
    "total_sum = 0\n",
    "n = 1\n",
    "while True:\n",
    "  total_sum += 1 / 2 ** n\n",
    "  n += 1\n",
    "  if n == N:\n",
    "    break\n",
    "print(total_sum)"
   ]
  }
 ],
 "metadata": {
  "kernelspec": {
   "display_name": "Python 3",
   "language": "python",
   "name": "python3"
  },
  "language_info": {
   "codemirror_mode": {
    "name": "ipython",
    "version": 3
   },
   "file_extension": ".py",
   "mimetype": "text/x-python",
   "name": "python",
   "nbconvert_exporter": "python",
   "pygments_lexer": "ipython3",
   "version": "3.7.8"
  }
 },
 "nbformat": 4,
 "nbformat_minor": 4
}
