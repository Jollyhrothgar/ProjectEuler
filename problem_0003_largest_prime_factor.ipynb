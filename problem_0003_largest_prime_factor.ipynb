{
 "cells": [
  {
   "cell_type": "markdown",
   "metadata": {},
   "source": [
    "# Largest Prime Factor\n",
    "\n",
    "The prime factors of 13195 are 5, 7, 13 and 29.\n",
    "\n",
    "What is the largest prime factor of the number 600851475143 ?"
   ]
  },
  {
   "cell_type": "markdown",
   "metadata": {},
   "source": [
    "# Solution\n",
    "\n",
    "A factor is a number that divides into another number without a remainder. That is to say, $m$ is a factor of $N$ if $N \\over m$ is a whole number.\n",
    "\n",
    "This is an interesting problem, which could be solved a few ways:\n",
    "\n",
    "## Method 1\n",
    "1.   Factorize a number and identify which factors are prime. This requires:\n",
    "    *   A means to generate all factors for a number\n",
    "    *   A means to check if a number is prime.\n",
    "    \n",
    "In principal, one could use a factoring method for two purposes - both to get factors AND to check if a number is prime, because prime numbers only contain two factors - one and itself.\n",
    "\n",
    "## Method 2\n",
    "1.   Generate prime numbers which are less than or equal to the number itself, and then check which primes are factors.\n",
    "\n",
    "## Discussion\n",
    "\n",
    "I suspect that there are both efficient factoring algorithms and efficient prime number algorithms out in the world, but that there are many fewer prime numbers in between 1 and any integer $N$ than there are factors. Given this, I suspect that the most efficient solution will be first to generate primes, and then to check which primes are factors.\n",
    "\n",
    "A Naive implementation could be to implement a sieve method to generate primes, and check which primes are factors."
   ]
  },
  {
   "cell_type": "markdown",
   "metadata": {},
   "source": [
    "## Naive Solution"
   ]
  },
  {
   "cell_type": "code",
   "execution_count": 4,
   "metadata": {},
   "outputs": [],
   "source": [
    "# create the set of all integers:\n",
    "# Creating this set breaks the computer, so we can't do this.\n",
    "# set(range(1, 600851475143+1))\n",
    "\n",
    "def is_prime(n):\n",
    "  for i in range(1,n+1):\n",
    "    if i == 1:\n",
    "      continue\n",
    "    elif i == n:\n",
    "      continue\n",
    "    else:\n",
    "      if n % i == 0:\n",
    "        return False\n",
    "  return True\n",
    "\n",
    "# remove primes"
   ]
  },
  {
   "cell_type": "code",
   "execution_count": 6,
   "metadata": {},
   "outputs": [
    {
     "name": "stdout",
     "output_type": "stream",
     "text": [
      "0\n",
      "1\n",
      "2\n",
      "3\n",
      "5\n",
      "7\n",
      "11\n",
      "13\n",
      "17\n",
      "19\n",
      "23\n",
      "29\n",
      "31\n",
      "37\n",
      "41\n",
      "43\n",
      "47\n",
      "53\n",
      "59\n",
      "61\n",
      "67\n",
      "71\n",
      "73\n",
      "79\n",
      "83\n",
      "89\n",
      "97\n"
     ]
    }
   ],
   "source": [
    "for i in range(100):\n",
    "  if is_prime(i):\n",
    "    print(i)"
   ]
  },
  {
   "cell_type": "code",
   "execution_count": null,
   "metadata": {},
   "outputs": [],
   "source": []
  }
 ],
 "metadata": {
  "kernelspec": {
   "display_name": "Python 3",
   "language": "python",
   "name": "python3"
  },
  "language_info": {
   "codemirror_mode": {
    "name": "ipython",
    "version": 3
   },
   "file_extension": ".py",
   "mimetype": "text/x-python",
   "name": "python",
   "nbconvert_exporter": "python",
   "pygments_lexer": "ipython3",
   "version": "3.7.8"
  }
 },
 "nbformat": 4,
 "nbformat_minor": 4
}
